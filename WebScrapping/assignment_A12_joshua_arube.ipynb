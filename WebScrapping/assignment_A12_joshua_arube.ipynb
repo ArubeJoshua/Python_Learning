{
 "cells": [
  {
   "cell_type": "code",
   "execution_count": 2,
   "metadata": {},
   "outputs": [
    {
     "name": "stdout",
     "output_type": "stream",
     "text": [
      "Data saved to bird_species.csv\n"
     ]
    }
   ],
   "source": [
    "import csv\n",
    "import requests\n",
    "from bs4 import BeautifulSoup\n",
    "\n",
    "def scrape_data(url):\n",
    "    response = requests.get(url)\n",
    "    if response.status_code == 200:\n",
    "        soup = BeautifulSoup(response.content, 'html.parser')\n",
    "        column_names = []\n",
    "\n",
    "        # Find the table headers to get column names\n",
    "        table = soup.find('table', {'class': 'results'})\n",
    "        headers = table.find_all('th')\n",
    "        column_names = [header.get_text(strip=True) for header in headers]\n",
    "\n",
    "        # Find the table data and iterate through rows\n",
    "        data = []\n",
    "        for row in table.find_all('tr'):\n",
    "            # Find table data cells\n",
    "            cols = row.find_all('td')\n",
    "            cols = [col.get_text(strip=True) for col in cols]\n",
    "            data.append(cols)\n",
    "\n",
    "        return column_names, data\n",
    "    else:\n",
    "        print(f\"Error accessing the website. Status Code: {response.status_code}\")\n",
    "        return None, None\n",
    "    \n",
    "\n",
    "def save_to_csv(column_names, data, filename):\n",
    "    with open(filename, mode='w', newline='') as file:\n",
    "        writer = csv.writer(file)\n",
    "        writer.writerow(column_names)  # Write column names to CSV file\n",
    "        writer.writerows(data)  # Write data to CSV file\n",
    "    print(f\"Data saved to {filename}\")\n",
    "\n",
    "if __name__ == \"__main__\":\n",
    "    url = \"https://xeno-canto.org/collection/species/all\"  # Replace this with the actual URL\n",
    "\n",
    "    column_names, scraped_data = scrape_data(url)\n",
    "    if column_names and scraped_data:\n",
    "        save_to_csv(column_names, scraped_data, \"bird_species.csv\")"
   ]
  },
  {
   "cell_type": "code",
   "execution_count": 14,
   "metadata": {},
   "outputs": [
    {
     "name": "stdout",
     "output_type": "stream",
     "text": [
      "Data saved to bird_songs.csv\n"
     ]
    }
   ],
   "source": [
    "def extract_bird_songs(url):\n",
    "    response = requests.get(url)\n",
    "    if response.status_code == 200:\n",
    "        data = response.json()\n",
    "        song_list = []\n",
    "        \n",
    "        if 'recordings' in data:\n",
    "            for recording in data['recordings']:\n",
    "                song_list.append(recording['en'])\n",
    "        return song_list\n",
    "    else:\n",
    "        print(f\"Failed to fetch data from {url}. Error code: {response.status_code}\")\n",
    "        return [] \n",
    "    \n",
    "    \n",
    "url = \"https://xeno-canto.org/api/2/recordings?query=type:song\"\n",
    "bird_songs = extract_bird_songs(url)\n",
    "\n",
    "def save_to_csv(data_list, filename):\n",
    "    with open(filename, mode='w', newline='', encoding='utf-8') as file:\n",
    "        writer = csv.writer(file)\n",
    "        writer.writerow(['Bird Song Name'])\n",
    "        for song_name in data_list:\n",
    "            writer.writerow([song_name])\n",
    "            \n",
    "if bird_songs:\n",
    "    csv_filename = \"bird_songs.csv\"\n",
    "    save_to_csv(bird_songs, csv_filename)\n",
    "    print(f\"Data saved to {csv_filename}\")\n",
    "else:\n",
    "    print(\"No bird songs data available.\")\n",
    "            \n"
   ]
  }
 ],
 "metadata": {
  "kernelspec": {
   "display_name": "Python 3",
   "language": "python",
   "name": "python3"
  },
  "language_info": {
   "codemirror_mode": {
    "name": "ipython",
    "version": 3
   },
   "file_extension": ".py",
   "mimetype": "text/x-python",
   "name": "python",
   "nbconvert_exporter": "python",
   "pygments_lexer": "ipython3",
   "version": "3.9.16"
  },
  "orig_nbformat": 4
 },
 "nbformat": 4,
 "nbformat_minor": 2
}
